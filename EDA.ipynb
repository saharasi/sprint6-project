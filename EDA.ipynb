{
 "cells": [
  {
   "cell_type": "code",
   "execution_count": 1,
   "metadata": {},
   "outputs": [
    {
     "name": "stderr",
     "output_type": "stream",
     "text": [
      "2023-11-19 18:41:00.275 \n",
      "  \u001b[33m\u001b[1mWarning:\u001b[0m to view this Streamlit app on a browser, run it with the following\n",
      "  command:\n",
      "\n",
      "    streamlit run /Users/saharasi/anaconda3/lib/python3.11/site-packages/ipykernel_launcher.py [ARGUMENTS]\n"
     ]
    },
    {
     "data": {
      "text/plain": [
       "DeltaGenerator()"
      ]
     },
     "execution_count": 1,
     "metadata": {},
     "output_type": "execute_result"
    }
   ],
   "source": [
    "\n",
    "#Hello reviewer, I am having trouble with the changes you want me to make in my jupyter notebook. \n",
    "#Here I updated the notebook with my introduction and title as well as comments. Please correct/add changes to my notebook \n",
    "#So I can understand what you want changed thank you \n",
    "\n",
    "\n",
    "\n",
    "# Exploratory Data Analysis of Car Advertisement Data\n",
    "\n",
    "## Introduction \n",
    "##This Jupyter Notebook conducts an exploratory data analysis (EDA) of a dataset containing car advertisement information. The dataset is loaded and filtered to provide insights into specific car models and their advertisements. Additionally, a price analysis is performed, visualizing the distribution of prices based on selected categorical variables. Furthermore, the notebook explores the relationship between car prices and various factors such as odometer readings, fuel type, and cylinder count, taking into account the age categories of the vehicles. Follow along to gain valuable insights into the patterns and trends present in the car advertisement data.\n",
    "\n",
    "\n",
    "# Import necessary libraries\n",
    "import pandas as pd\n",
    "import streamlit as st\n",
    "import plotly.express as px\n",
    "\n",
    "# Set up Streamlit header\n",
    "st.header('Car Advertisement Data')\n",
    "st.write(''' #### Filter the data below to see the ads by manufacturer''')\n",
    "\n",
    "# Load the dataset\n",
    "df = pd.read_csv('vehicles_us.csv')\n",
    "df.head()\n",
    "\n",
    "# Model selection dropdown\n",
    "models_choice = df['model'].unique()\n",
    "make_choice_model = st.selectbox('Select Model:', models_choice)\n",
    "\n",
    "# Year range slider\n",
    "min_year, max_year = int(df['model_year'].min()), int(df['model_year'].max())\n",
    "year_range = st.slider('Choose year:', value=(min_year, max_year), min_value=min_year, max_value=max_year)\n",
    "actual_range = list(range(year_range[0], year_range[1]+1))\n",
    "\n",
    "# Filter data based on model and selected year range\n",
    "df_filtered = df[(df['model'] == make_choice_model) & (df.model_year.isin(list(actual_range)))]\n",
    "st.table(df_filtered)\n",
    "\n",
    "# Price Analysis section\n",
    "st.header('Price Analysis:')\n",
    "\n",
    "# Dropdown for selecting the variable for price distribution\n",
    "list_for_hist = ['transmission', 'type', 'fuel', 'condition']\n",
    "choice_for_hist = st.selectbox('Split for price distribution:', list_for_hist)\n",
    "\n",
    "# Create histogram and display\n",
    "fig1 = px.histogram(df, x='price', color=choice_for_hist)\n",
    "fig1.update_layout(title='<b> Split of price by {}</b>'.format(choice_for_hist))\n",
    "st.plotly_chart(fig1)\n",
    "\n",
    "# Defining the age category of the car\n",
    "df['age'] = 2023 - df['model_year']\n",
    "\n",
    "def age_category(x):\n",
    "    if x < 5:\n",
    "        return '<5'\n",
    "    elif 5 <= x < 10:\n",
    "        return '5-10'\n",
    "    elif 10 <= x < 20:\n",
    "        return '10-20'\n",
    "    else:\n",
    "        return '>20'\n",
    "\n",
    "df['age_category'] = df['age'].apply(age_category)\n",
    "\n",
    "# Scatter plot section\n",
    "list_for_scatter = ['odometer', 'fuel', 'cylinders']\n",
    "choice_for_scatter = st.selectbox('Price dependency on:', list_for_scatter)\n",
    "\n",
    "# Create scatter plot and display\n",
    "fig2 = px.scatter(df, x='price', y=choice_for_scatter, color='age_category', hover_data=['model_year'])\n",
    "fig2.update_layout(title='<b>Price vs {}</b>'.format(choice_for_scatter))\n",
    "st.plotly_chart(fig2)\n",
    "\n"
   ]
  }
 ],
 "metadata": {
  "kernelspec": {
   "display_name": "Python 3 (ipykernel)",
   "language": "python",
   "name": "python3"
  },
  "language_info": {
   "codemirror_mode": {
    "name": "ipython",
    "version": 3
   },
   "file_extension": ".py",
   "mimetype": "text/x-python",
   "name": "python",
   "nbconvert_exporter": "python",
   "pygments_lexer": "ipython3",
   "version": "3.11.4"
  }
 },
 "nbformat": 4,
 "nbformat_minor": 4
}
