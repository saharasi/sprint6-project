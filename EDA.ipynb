{
 "cells": [
  {
   "cell_type": "markdown",
   "metadata": {},
   "source": [
    "Analysis of Car Advertisement Data"
   ]
  },
  {
   "cell_type": "markdown",
   "metadata": {},
   "source": [
    " Introduction                  \n",
    "\n",
    "This Jupyter Notebook conducts an exploratory data analysis (EDA) of a dataset containing car advertisement information. The dataset is loaded and filtered to provide insights into specific car models and their advertisements. Additionally, a price analysis is performed, visualizing the distribution of prices based on selected categorical variables. Furthermore, the notebook explores the relationship between car prices and various factors such as odometer readings, fuel type, and cylinder count, taking into account the age categories of the vehicles. Follow along to gain valuable insights into the patterns and trends present in the car advertisement data."
   ]
  },
  {
   "cell_type": "markdown",
   "metadata": {},
   "source": [
    "First, we import the necessary libraries we will need for the exploratory data analysis:"
   ]
  },
  {
   "cell_type": "code",
   "execution_count": 1,
   "metadata": {},
   "outputs": [],
   "source": [
    "import pandas as pd\n",
    "import streamlit as st\n",
    "import plotly.express as px"
   ]
  },
  {
   "cell_type": "markdown",
   "metadata": {},
   "source": [
    "Next, we need to load the data set and display the first 10 rows:"
   ]
  },
  {
   "cell_type": "code",
   "execution_count": 13,
   "metadata": {},
   "outputs": [
    {
     "data": {
      "text/html": [
       "<div>\n",
       "<style scoped>\n",
       "    .dataframe tbody tr th:only-of-type {\n",
       "        vertical-align: middle;\n",
       "    }\n",
       "\n",
       "    .dataframe tbody tr th {\n",
       "        vertical-align: top;\n",
       "    }\n",
       "\n",
       "    .dataframe thead th {\n",
       "        text-align: right;\n",
       "    }\n",
       "</style>\n",
       "<table border=\"1\" class=\"dataframe\">\n",
       "  <thead>\n",
       "    <tr style=\"text-align: right;\">\n",
       "      <th></th>\n",
       "      <th>price</th>\n",
       "      <th>model_year</th>\n",
       "      <th>model</th>\n",
       "      <th>condition</th>\n",
       "      <th>cylinders</th>\n",
       "      <th>fuel</th>\n",
       "      <th>odometer</th>\n",
       "      <th>transmission</th>\n",
       "      <th>type</th>\n",
       "      <th>paint_color</th>\n",
       "      <th>is_4wd</th>\n",
       "      <th>date_posted</th>\n",
       "      <th>days_listed</th>\n",
       "    </tr>\n",
       "  </thead>\n",
       "  <tbody>\n",
       "    <tr>\n",
       "      <th>0</th>\n",
       "      <td>9400</td>\n",
       "      <td>2011.0</td>\n",
       "      <td>bmw x5</td>\n",
       "      <td>good</td>\n",
       "      <td>6.0</td>\n",
       "      <td>gas</td>\n",
       "      <td>145000.0</td>\n",
       "      <td>automatic</td>\n",
       "      <td>SUV</td>\n",
       "      <td>NaN</td>\n",
       "      <td>1.0</td>\n",
       "      <td>2018-06-23</td>\n",
       "      <td>19</td>\n",
       "    </tr>\n",
       "    <tr>\n",
       "      <th>1</th>\n",
       "      <td>25500</td>\n",
       "      <td>NaN</td>\n",
       "      <td>ford f-150</td>\n",
       "      <td>good</td>\n",
       "      <td>6.0</td>\n",
       "      <td>gas</td>\n",
       "      <td>88705.0</td>\n",
       "      <td>automatic</td>\n",
       "      <td>pickup</td>\n",
       "      <td>white</td>\n",
       "      <td>1.0</td>\n",
       "      <td>2018-10-19</td>\n",
       "      <td>50</td>\n",
       "    </tr>\n",
       "    <tr>\n",
       "      <th>2</th>\n",
       "      <td>5500</td>\n",
       "      <td>2013.0</td>\n",
       "      <td>hyundai sonata</td>\n",
       "      <td>like new</td>\n",
       "      <td>4.0</td>\n",
       "      <td>gas</td>\n",
       "      <td>110000.0</td>\n",
       "      <td>automatic</td>\n",
       "      <td>sedan</td>\n",
       "      <td>red</td>\n",
       "      <td>NaN</td>\n",
       "      <td>2019-02-07</td>\n",
       "      <td>79</td>\n",
       "    </tr>\n",
       "    <tr>\n",
       "      <th>3</th>\n",
       "      <td>1500</td>\n",
       "      <td>2003.0</td>\n",
       "      <td>ford f-150</td>\n",
       "      <td>fair</td>\n",
       "      <td>8.0</td>\n",
       "      <td>gas</td>\n",
       "      <td>NaN</td>\n",
       "      <td>automatic</td>\n",
       "      <td>pickup</td>\n",
       "      <td>NaN</td>\n",
       "      <td>NaN</td>\n",
       "      <td>2019-03-22</td>\n",
       "      <td>9</td>\n",
       "    </tr>\n",
       "    <tr>\n",
       "      <th>4</th>\n",
       "      <td>14900</td>\n",
       "      <td>2017.0</td>\n",
       "      <td>chrysler 200</td>\n",
       "      <td>excellent</td>\n",
       "      <td>4.0</td>\n",
       "      <td>gas</td>\n",
       "      <td>80903.0</td>\n",
       "      <td>automatic</td>\n",
       "      <td>sedan</td>\n",
       "      <td>black</td>\n",
       "      <td>NaN</td>\n",
       "      <td>2019-04-02</td>\n",
       "      <td>28</td>\n",
       "    </tr>\n",
       "    <tr>\n",
       "      <th>5</th>\n",
       "      <td>14990</td>\n",
       "      <td>2014.0</td>\n",
       "      <td>chrysler 300</td>\n",
       "      <td>excellent</td>\n",
       "      <td>6.0</td>\n",
       "      <td>gas</td>\n",
       "      <td>57954.0</td>\n",
       "      <td>automatic</td>\n",
       "      <td>sedan</td>\n",
       "      <td>black</td>\n",
       "      <td>1.0</td>\n",
       "      <td>2018-06-20</td>\n",
       "      <td>15</td>\n",
       "    </tr>\n",
       "    <tr>\n",
       "      <th>6</th>\n",
       "      <td>12990</td>\n",
       "      <td>2015.0</td>\n",
       "      <td>toyota camry</td>\n",
       "      <td>excellent</td>\n",
       "      <td>4.0</td>\n",
       "      <td>gas</td>\n",
       "      <td>79212.0</td>\n",
       "      <td>automatic</td>\n",
       "      <td>sedan</td>\n",
       "      <td>white</td>\n",
       "      <td>NaN</td>\n",
       "      <td>2018-12-27</td>\n",
       "      <td>73</td>\n",
       "    </tr>\n",
       "    <tr>\n",
       "      <th>7</th>\n",
       "      <td>15990</td>\n",
       "      <td>2013.0</td>\n",
       "      <td>honda pilot</td>\n",
       "      <td>excellent</td>\n",
       "      <td>6.0</td>\n",
       "      <td>gas</td>\n",
       "      <td>109473.0</td>\n",
       "      <td>automatic</td>\n",
       "      <td>SUV</td>\n",
       "      <td>black</td>\n",
       "      <td>1.0</td>\n",
       "      <td>2019-01-07</td>\n",
       "      <td>68</td>\n",
       "    </tr>\n",
       "    <tr>\n",
       "      <th>8</th>\n",
       "      <td>11500</td>\n",
       "      <td>2012.0</td>\n",
       "      <td>kia sorento</td>\n",
       "      <td>excellent</td>\n",
       "      <td>4.0</td>\n",
       "      <td>gas</td>\n",
       "      <td>104174.0</td>\n",
       "      <td>automatic</td>\n",
       "      <td>SUV</td>\n",
       "      <td>NaN</td>\n",
       "      <td>1.0</td>\n",
       "      <td>2018-07-16</td>\n",
       "      <td>19</td>\n",
       "    </tr>\n",
       "    <tr>\n",
       "      <th>9</th>\n",
       "      <td>9200</td>\n",
       "      <td>2008.0</td>\n",
       "      <td>honda pilot</td>\n",
       "      <td>excellent</td>\n",
       "      <td>NaN</td>\n",
       "      <td>gas</td>\n",
       "      <td>147191.0</td>\n",
       "      <td>automatic</td>\n",
       "      <td>SUV</td>\n",
       "      <td>blue</td>\n",
       "      <td>1.0</td>\n",
       "      <td>2019-02-15</td>\n",
       "      <td>17</td>\n",
       "    </tr>\n",
       "  </tbody>\n",
       "</table>\n",
       "</div>"
      ],
      "text/plain": [
       "   price  model_year           model  condition  cylinders fuel  odometer  \\\n",
       "0   9400      2011.0          bmw x5       good        6.0  gas  145000.0   \n",
       "1  25500         NaN      ford f-150       good        6.0  gas   88705.0   \n",
       "2   5500      2013.0  hyundai sonata   like new        4.0  gas  110000.0   \n",
       "3   1500      2003.0      ford f-150       fair        8.0  gas       NaN   \n",
       "4  14900      2017.0    chrysler 200  excellent        4.0  gas   80903.0   \n",
       "5  14990      2014.0    chrysler 300  excellent        6.0  gas   57954.0   \n",
       "6  12990      2015.0    toyota camry  excellent        4.0  gas   79212.0   \n",
       "7  15990      2013.0     honda pilot  excellent        6.0  gas  109473.0   \n",
       "8  11500      2012.0     kia sorento  excellent        4.0  gas  104174.0   \n",
       "9   9200      2008.0     honda pilot  excellent        NaN  gas  147191.0   \n",
       "\n",
       "  transmission    type paint_color  is_4wd date_posted  days_listed  \n",
       "0    automatic     SUV         NaN     1.0  2018-06-23           19  \n",
       "1    automatic  pickup       white     1.0  2018-10-19           50  \n",
       "2    automatic   sedan         red     NaN  2019-02-07           79  \n",
       "3    automatic  pickup         NaN     NaN  2019-03-22            9  \n",
       "4    automatic   sedan       black     NaN  2019-04-02           28  \n",
       "5    automatic   sedan       black     1.0  2018-06-20           15  \n",
       "6    automatic   sedan       white     NaN  2018-12-27           73  \n",
       "7    automatic     SUV       black     1.0  2019-01-07           68  \n",
       "8    automatic     SUV         NaN     1.0  2018-07-16           19  \n",
       "9    automatic     SUV        blue     1.0  2019-02-15           17  "
      ]
     },
     "execution_count": 13,
     "metadata": {},
     "output_type": "execute_result"
    }
   ],
   "source": [
    "df = pd.read_csv('vehicles_us.csv')\n",
    "df.head(10)"
   ]
  },
  {
   "cell_type": "markdown",
   "metadata": {},
   "source": [
    "We can see from the table above that there several categories including things such as price, model, number of cylinders etc. These are the categories that we will further break down to create our graphs to be able to see the distribution of sales better. Now let's start pre-processing the data."
   ]
  },
  {
   "cell_type": "markdown",
   "metadata": {},
   "source": [
    "Let's check for missing values in the dataset:"
   ]
  },
  {
   "cell_type": "code",
   "execution_count": 14,
   "metadata": {},
   "outputs": [
    {
     "name": "stdout",
     "output_type": "stream",
     "text": [
      "Missing Values:\n",
      " price               0\n",
      "model_year       3619\n",
      "model               0\n",
      "condition           0\n",
      "cylinders        5260\n",
      "fuel                0\n",
      "odometer         7892\n",
      "transmission        0\n",
      "type                0\n",
      "paint_color      9267\n",
      "is_4wd          25953\n",
      "date_posted         0\n",
      "days_listed         0\n",
      "dtype: int64\n"
     ]
    }
   ],
   "source": [
    "missing_values = df.isnull().sum()\n",
    "print(\"Missing Values:\\n\", missing_values)"
   ]
  },
  {
   "cell_type": "markdown",
   "metadata": {},
   "source": [
    "The price, model, condition, fuel, transmission, type, date_posted and listed all having missing values indicated above. Let's fill in the missing values with the median for the model_year, cylinders and odometer columns:"
   ]
  },
  {
   "cell_type": "code",
   "execution_count": 24,
   "metadata": {},
   "outputs": [
    {
     "data": {
      "text/html": [
       "<div>\n",
       "<style scoped>\n",
       "    .dataframe tbody tr th:only-of-type {\n",
       "        vertical-align: middle;\n",
       "    }\n",
       "\n",
       "    .dataframe tbody tr th {\n",
       "        vertical-align: top;\n",
       "    }\n",
       "\n",
       "    .dataframe thead th {\n",
       "        text-align: right;\n",
       "    }\n",
       "</style>\n",
       "<table border=\"1\" class=\"dataframe\">\n",
       "  <thead>\n",
       "    <tr style=\"text-align: right;\">\n",
       "      <th></th>\n",
       "      <th>price</th>\n",
       "      <th>model_year</th>\n",
       "      <th>model</th>\n",
       "      <th>condition</th>\n",
       "      <th>cylinders</th>\n",
       "      <th>fuel</th>\n",
       "      <th>odometer</th>\n",
       "      <th>transmission</th>\n",
       "      <th>type</th>\n",
       "      <th>paint_color</th>\n",
       "      <th>is_4wd</th>\n",
       "      <th>date_posted</th>\n",
       "      <th>days_listed</th>\n",
       "    </tr>\n",
       "  </thead>\n",
       "  <tbody>\n",
       "    <tr>\n",
       "      <th>1</th>\n",
       "      <td>25500</td>\n",
       "      <td>2011.0</td>\n",
       "      <td>ford f-150</td>\n",
       "      <td>good</td>\n",
       "      <td>6.0</td>\n",
       "      <td>gas</td>\n",
       "      <td>88705.0</td>\n",
       "      <td>automatic</td>\n",
       "      <td>pickup</td>\n",
       "      <td>white</td>\n",
       "      <td>1.0</td>\n",
       "      <td>2018-10-19</td>\n",
       "      <td>50</td>\n",
       "    </tr>\n",
       "    <tr>\n",
       "      <th>5</th>\n",
       "      <td>14990</td>\n",
       "      <td>2014.0</td>\n",
       "      <td>chrysler 300</td>\n",
       "      <td>excellent</td>\n",
       "      <td>6.0</td>\n",
       "      <td>gas</td>\n",
       "      <td>57954.0</td>\n",
       "      <td>automatic</td>\n",
       "      <td>sedan</td>\n",
       "      <td>black</td>\n",
       "      <td>1.0</td>\n",
       "      <td>2018-06-20</td>\n",
       "      <td>15</td>\n",
       "    </tr>\n",
       "    <tr>\n",
       "      <th>7</th>\n",
       "      <td>15990</td>\n",
       "      <td>2013.0</td>\n",
       "      <td>honda pilot</td>\n",
       "      <td>excellent</td>\n",
       "      <td>6.0</td>\n",
       "      <td>gas</td>\n",
       "      <td>109473.0</td>\n",
       "      <td>automatic</td>\n",
       "      <td>SUV</td>\n",
       "      <td>black</td>\n",
       "      <td>1.0</td>\n",
       "      <td>2019-01-07</td>\n",
       "      <td>68</td>\n",
       "    </tr>\n",
       "    <tr>\n",
       "      <th>9</th>\n",
       "      <td>9200</td>\n",
       "      <td>2008.0</td>\n",
       "      <td>honda pilot</td>\n",
       "      <td>excellent</td>\n",
       "      <td>6.0</td>\n",
       "      <td>gas</td>\n",
       "      <td>147191.0</td>\n",
       "      <td>automatic</td>\n",
       "      <td>SUV</td>\n",
       "      <td>blue</td>\n",
       "      <td>1.0</td>\n",
       "      <td>2019-02-15</td>\n",
       "      <td>17</td>\n",
       "    </tr>\n",
       "    <tr>\n",
       "      <th>10</th>\n",
       "      <td>19500</td>\n",
       "      <td>2011.0</td>\n",
       "      <td>chevrolet silverado 1500</td>\n",
       "      <td>excellent</td>\n",
       "      <td>8.0</td>\n",
       "      <td>gas</td>\n",
       "      <td>128413.0</td>\n",
       "      <td>automatic</td>\n",
       "      <td>pickup</td>\n",
       "      <td>black</td>\n",
       "      <td>1.0</td>\n",
       "      <td>2018-09-17</td>\n",
       "      <td>38</td>\n",
       "    </tr>\n",
       "    <tr>\n",
       "      <th>14</th>\n",
       "      <td>12990</td>\n",
       "      <td>2009.0</td>\n",
       "      <td>gmc yukon</td>\n",
       "      <td>excellent</td>\n",
       "      <td>8.0</td>\n",
       "      <td>gas</td>\n",
       "      <td>132285.0</td>\n",
       "      <td>automatic</td>\n",
       "      <td>SUV</td>\n",
       "      <td>black</td>\n",
       "      <td>1.0</td>\n",
       "      <td>2019-01-31</td>\n",
       "      <td>24</td>\n",
       "    </tr>\n",
       "    <tr>\n",
       "      <th>15</th>\n",
       "      <td>17990</td>\n",
       "      <td>2013.0</td>\n",
       "      <td>ram 1500</td>\n",
       "      <td>excellent</td>\n",
       "      <td>8.0</td>\n",
       "      <td>gas</td>\n",
       "      <td>113000.0</td>\n",
       "      <td>automatic</td>\n",
       "      <td>pickup</td>\n",
       "      <td>red</td>\n",
       "      <td>1.0</td>\n",
       "      <td>2018-05-15</td>\n",
       "      <td>111</td>\n",
       "    </tr>\n",
       "    <tr>\n",
       "      <th>16</th>\n",
       "      <td>14990</td>\n",
       "      <td>2010.0</td>\n",
       "      <td>ram 1500</td>\n",
       "      <td>excellent</td>\n",
       "      <td>8.0</td>\n",
       "      <td>gas</td>\n",
       "      <td>130725.0</td>\n",
       "      <td>automatic</td>\n",
       "      <td>pickup</td>\n",
       "      <td>red</td>\n",
       "      <td>1.0</td>\n",
       "      <td>2018-12-30</td>\n",
       "      <td>13</td>\n",
       "    </tr>\n",
       "    <tr>\n",
       "      <th>17</th>\n",
       "      <td>13990</td>\n",
       "      <td>2014.0</td>\n",
       "      <td>jeep cherokee</td>\n",
       "      <td>excellent</td>\n",
       "      <td>6.0</td>\n",
       "      <td>gas</td>\n",
       "      <td>100669.0</td>\n",
       "      <td>automatic</td>\n",
       "      <td>SUV</td>\n",
       "      <td>red</td>\n",
       "      <td>1.0</td>\n",
       "      <td>2018-08-16</td>\n",
       "      <td>25</td>\n",
       "    </tr>\n",
       "    <tr>\n",
       "      <th>18</th>\n",
       "      <td>12500</td>\n",
       "      <td>2013.0</td>\n",
       "      <td>chevrolet traverse</td>\n",
       "      <td>excellent</td>\n",
       "      <td>6.0</td>\n",
       "      <td>gas</td>\n",
       "      <td>128325.0</td>\n",
       "      <td>automatic</td>\n",
       "      <td>SUV</td>\n",
       "      <td>white</td>\n",
       "      <td>1.0</td>\n",
       "      <td>2019-04-09</td>\n",
       "      <td>13</td>\n",
       "    </tr>\n",
       "  </tbody>\n",
       "</table>\n",
       "</div>"
      ],
      "text/plain": [
       "    price  model_year                     model  condition  cylinders fuel  \\\n",
       "1   25500      2011.0                ford f-150       good        6.0  gas   \n",
       "5   14990      2014.0              chrysler 300  excellent        6.0  gas   \n",
       "7   15990      2013.0               honda pilot  excellent        6.0  gas   \n",
       "9    9200      2008.0               honda pilot  excellent        6.0  gas   \n",
       "10  19500      2011.0  chevrolet silverado 1500  excellent        8.0  gas   \n",
       "14  12990      2009.0                 gmc yukon  excellent        8.0  gas   \n",
       "15  17990      2013.0                  ram 1500  excellent        8.0  gas   \n",
       "16  14990      2010.0                  ram 1500  excellent        8.0  gas   \n",
       "17  13990      2014.0             jeep cherokee  excellent        6.0  gas   \n",
       "18  12500      2013.0        chevrolet traverse  excellent        6.0  gas   \n",
       "\n",
       "    odometer transmission    type paint_color  is_4wd date_posted  days_listed  \n",
       "1    88705.0    automatic  pickup       white     1.0  2018-10-19           50  \n",
       "5    57954.0    automatic   sedan       black     1.0  2018-06-20           15  \n",
       "7   109473.0    automatic     SUV       black     1.0  2019-01-07           68  \n",
       "9   147191.0    automatic     SUV        blue     1.0  2019-02-15           17  \n",
       "10  128413.0    automatic  pickup       black     1.0  2018-09-17           38  \n",
       "14  132285.0    automatic     SUV       black     1.0  2019-01-31           24  \n",
       "15  113000.0    automatic  pickup         red     1.0  2018-05-15          111  \n",
       "16  130725.0    automatic  pickup         red     1.0  2018-12-30           13  \n",
       "17  100669.0    automatic     SUV         red     1.0  2018-08-16           25  \n",
       "18  128325.0    automatic     SUV       white     1.0  2019-04-09           13  "
      ]
     },
     "execution_count": 24,
     "metadata": {},
     "output_type": "execute_result"
    }
   ],
   "source": [
    "df['model_year'].fillna(df['model_year'].median(), inplace=True)\n",
    "df['cylinders'].fillna(df['cylinders'].median(), inplace=True)\n",
    "df['odometer'].fillna(df['odometer'].median(), inplace=True)\n",
    "df.head(10)"
   ]
  },
  {
   "cell_type": "markdown",
   "metadata": {},
   "source": [
    "That looks much cleaner! Now let's further process our dataset and drop NaN values in the other columns:"
   ]
  },
  {
   "cell_type": "code",
   "execution_count": 26,
   "metadata": {},
   "outputs": [
    {
     "name": "stdout",
     "output_type": "stream",
     "text": [
      "DataFrame after dropping NaN values:\n"
     ]
    },
    {
     "data": {
      "text/html": [
       "<div>\n",
       "<style scoped>\n",
       "    .dataframe tbody tr th:only-of-type {\n",
       "        vertical-align: middle;\n",
       "    }\n",
       "\n",
       "    .dataframe tbody tr th {\n",
       "        vertical-align: top;\n",
       "    }\n",
       "\n",
       "    .dataframe thead th {\n",
       "        text-align: right;\n",
       "    }\n",
       "</style>\n",
       "<table border=\"1\" class=\"dataframe\">\n",
       "  <thead>\n",
       "    <tr style=\"text-align: right;\">\n",
       "      <th></th>\n",
       "      <th>price</th>\n",
       "      <th>model_year</th>\n",
       "      <th>model</th>\n",
       "      <th>condition</th>\n",
       "      <th>cylinders</th>\n",
       "      <th>fuel</th>\n",
       "      <th>odometer</th>\n",
       "      <th>transmission</th>\n",
       "      <th>type</th>\n",
       "      <th>paint_color</th>\n",
       "      <th>is_4wd</th>\n",
       "      <th>date_posted</th>\n",
       "      <th>days_listed</th>\n",
       "    </tr>\n",
       "  </thead>\n",
       "  <tbody>\n",
       "    <tr>\n",
       "      <th>1</th>\n",
       "      <td>25500</td>\n",
       "      <td>2011.0</td>\n",
       "      <td>ford f-150</td>\n",
       "      <td>good</td>\n",
       "      <td>6.0</td>\n",
       "      <td>gas</td>\n",
       "      <td>88705.0</td>\n",
       "      <td>automatic</td>\n",
       "      <td>pickup</td>\n",
       "      <td>white</td>\n",
       "      <td>1.0</td>\n",
       "      <td>2018-10-19</td>\n",
       "      <td>50</td>\n",
       "    </tr>\n",
       "    <tr>\n",
       "      <th>5</th>\n",
       "      <td>14990</td>\n",
       "      <td>2014.0</td>\n",
       "      <td>chrysler 300</td>\n",
       "      <td>excellent</td>\n",
       "      <td>6.0</td>\n",
       "      <td>gas</td>\n",
       "      <td>57954.0</td>\n",
       "      <td>automatic</td>\n",
       "      <td>sedan</td>\n",
       "      <td>black</td>\n",
       "      <td>1.0</td>\n",
       "      <td>2018-06-20</td>\n",
       "      <td>15</td>\n",
       "    </tr>\n",
       "    <tr>\n",
       "      <th>7</th>\n",
       "      <td>15990</td>\n",
       "      <td>2013.0</td>\n",
       "      <td>honda pilot</td>\n",
       "      <td>excellent</td>\n",
       "      <td>6.0</td>\n",
       "      <td>gas</td>\n",
       "      <td>109473.0</td>\n",
       "      <td>automatic</td>\n",
       "      <td>SUV</td>\n",
       "      <td>black</td>\n",
       "      <td>1.0</td>\n",
       "      <td>2019-01-07</td>\n",
       "      <td>68</td>\n",
       "    </tr>\n",
       "    <tr>\n",
       "      <th>9</th>\n",
       "      <td>9200</td>\n",
       "      <td>2008.0</td>\n",
       "      <td>honda pilot</td>\n",
       "      <td>excellent</td>\n",
       "      <td>6.0</td>\n",
       "      <td>gas</td>\n",
       "      <td>147191.0</td>\n",
       "      <td>automatic</td>\n",
       "      <td>SUV</td>\n",
       "      <td>blue</td>\n",
       "      <td>1.0</td>\n",
       "      <td>2019-02-15</td>\n",
       "      <td>17</td>\n",
       "    </tr>\n",
       "    <tr>\n",
       "      <th>10</th>\n",
       "      <td>19500</td>\n",
       "      <td>2011.0</td>\n",
       "      <td>chevrolet silverado 1500</td>\n",
       "      <td>excellent</td>\n",
       "      <td>8.0</td>\n",
       "      <td>gas</td>\n",
       "      <td>128413.0</td>\n",
       "      <td>automatic</td>\n",
       "      <td>pickup</td>\n",
       "      <td>black</td>\n",
       "      <td>1.0</td>\n",
       "      <td>2018-09-17</td>\n",
       "      <td>38</td>\n",
       "    </tr>\n",
       "    <tr>\n",
       "      <th>14</th>\n",
       "      <td>12990</td>\n",
       "      <td>2009.0</td>\n",
       "      <td>gmc yukon</td>\n",
       "      <td>excellent</td>\n",
       "      <td>8.0</td>\n",
       "      <td>gas</td>\n",
       "      <td>132285.0</td>\n",
       "      <td>automatic</td>\n",
       "      <td>SUV</td>\n",
       "      <td>black</td>\n",
       "      <td>1.0</td>\n",
       "      <td>2019-01-31</td>\n",
       "      <td>24</td>\n",
       "    </tr>\n",
       "    <tr>\n",
       "      <th>15</th>\n",
       "      <td>17990</td>\n",
       "      <td>2013.0</td>\n",
       "      <td>ram 1500</td>\n",
       "      <td>excellent</td>\n",
       "      <td>8.0</td>\n",
       "      <td>gas</td>\n",
       "      <td>113000.0</td>\n",
       "      <td>automatic</td>\n",
       "      <td>pickup</td>\n",
       "      <td>red</td>\n",
       "      <td>1.0</td>\n",
       "      <td>2018-05-15</td>\n",
       "      <td>111</td>\n",
       "    </tr>\n",
       "    <tr>\n",
       "      <th>16</th>\n",
       "      <td>14990</td>\n",
       "      <td>2010.0</td>\n",
       "      <td>ram 1500</td>\n",
       "      <td>excellent</td>\n",
       "      <td>8.0</td>\n",
       "      <td>gas</td>\n",
       "      <td>130725.0</td>\n",
       "      <td>automatic</td>\n",
       "      <td>pickup</td>\n",
       "      <td>red</td>\n",
       "      <td>1.0</td>\n",
       "      <td>2018-12-30</td>\n",
       "      <td>13</td>\n",
       "    </tr>\n",
       "    <tr>\n",
       "      <th>17</th>\n",
       "      <td>13990</td>\n",
       "      <td>2014.0</td>\n",
       "      <td>jeep cherokee</td>\n",
       "      <td>excellent</td>\n",
       "      <td>6.0</td>\n",
       "      <td>gas</td>\n",
       "      <td>100669.0</td>\n",
       "      <td>automatic</td>\n",
       "      <td>SUV</td>\n",
       "      <td>red</td>\n",
       "      <td>1.0</td>\n",
       "      <td>2018-08-16</td>\n",
       "      <td>25</td>\n",
       "    </tr>\n",
       "    <tr>\n",
       "      <th>18</th>\n",
       "      <td>12500</td>\n",
       "      <td>2013.0</td>\n",
       "      <td>chevrolet traverse</td>\n",
       "      <td>excellent</td>\n",
       "      <td>6.0</td>\n",
       "      <td>gas</td>\n",
       "      <td>128325.0</td>\n",
       "      <td>automatic</td>\n",
       "      <td>SUV</td>\n",
       "      <td>white</td>\n",
       "      <td>1.0</td>\n",
       "      <td>2019-04-09</td>\n",
       "      <td>13</td>\n",
       "    </tr>\n",
       "  </tbody>\n",
       "</table>\n",
       "</div>"
      ],
      "text/plain": [
       "    price  model_year                     model  condition  cylinders fuel  \\\n",
       "1   25500      2011.0                ford f-150       good        6.0  gas   \n",
       "5   14990      2014.0              chrysler 300  excellent        6.0  gas   \n",
       "7   15990      2013.0               honda pilot  excellent        6.0  gas   \n",
       "9    9200      2008.0               honda pilot  excellent        6.0  gas   \n",
       "10  19500      2011.0  chevrolet silverado 1500  excellent        8.0  gas   \n",
       "14  12990      2009.0                 gmc yukon  excellent        8.0  gas   \n",
       "15  17990      2013.0                  ram 1500  excellent        8.0  gas   \n",
       "16  14990      2010.0                  ram 1500  excellent        8.0  gas   \n",
       "17  13990      2014.0             jeep cherokee  excellent        6.0  gas   \n",
       "18  12500      2013.0        chevrolet traverse  excellent        6.0  gas   \n",
       "\n",
       "    odometer transmission    type paint_color  is_4wd date_posted  days_listed  \n",
       "1    88705.0    automatic  pickup       white     1.0  2018-10-19           50  \n",
       "5    57954.0    automatic   sedan       black     1.0  2018-06-20           15  \n",
       "7   109473.0    automatic     SUV       black     1.0  2019-01-07           68  \n",
       "9   147191.0    automatic     SUV        blue     1.0  2019-02-15           17  \n",
       "10  128413.0    automatic  pickup       black     1.0  2018-09-17           38  \n",
       "14  132285.0    automatic     SUV       black     1.0  2019-01-31           24  \n",
       "15  113000.0    automatic  pickup         red     1.0  2018-05-15          111  \n",
       "16  130725.0    automatic  pickup         red     1.0  2018-12-30           13  \n",
       "17  100669.0    automatic     SUV         red     1.0  2018-08-16           25  \n",
       "18  128325.0    automatic     SUV       white     1.0  2019-04-09           13  "
      ]
     },
     "execution_count": 26,
     "metadata": {},
     "output_type": "execute_result"
    }
   ],
   "source": [
    "columns_to_exclude = ['model_year', 'cylinders', 'odometer']\n",
    "df_cleaned = df.dropna(subset=[col for col in df.columns if col not in columns_to_exclude])\n",
    "print(\"DataFrame after dropping NaN values:\")\n",
    "df_cleaned.head(10)"
   ]
  },
  {
   "cell_type": "markdown",
   "metadata": {},
   "source": [
    "And there we have it! Our data is cleaned and pre-processed and ready for the next step! Now we can start making our Streamlit website by using our imported package streamlit as st. Throughout writing code, we will check and frequently refresh the site to make sure everything looks good. To do this, all you have to do is open Terminal and run the command \"streamlit run car_ad.py\""
   ]
  },
  {
   "cell_type": "markdown",
   "metadata": {},
   "source": [
    "We will first create a title and header for our website as follows:"
   ]
  },
  {
   "cell_type": "code",
   "execution_count": 27,
   "metadata": {},
   "outputs": [],
   "source": [
    "st.header('Car Advertisement Data')\n",
    "st.write(''' #### Filter the data below to see the ads by manufacturer''')"
   ]
  },
  {
   "cell_type": "markdown",
   "metadata": {},
   "source": [
    "Now, let's create a drop-down box to filter the data set by 'model', to do so we first need the unique number of values:"
   ]
  },
  {
   "cell_type": "code",
   "execution_count": 28,
   "metadata": {},
   "outputs": [],
   "source": [
    "models_choice = df['model'].unique()"
   ]
  },
  {
   "cell_type": "markdown",
   "metadata": {},
   "source": [
    "We can use the st.selectbox function within Streamlit to create a drop-down:"
   ]
  },
  {
   "cell_type": "code",
   "execution_count": 29,
   "metadata": {},
   "outputs": [],
   "source": [
    "make_choice_model = st.selectbox('Select Model:', models_choice)"
   ]
  },
  {
   "cell_type": "markdown",
   "metadata": {},
   "source": [
    "That looks good! Right now after re-freshing our website we should see a title, header and a drop-down with the 'model' values from out dataset. Next, we'll make a slider in Streamlit. The st.slider function specifically creates a slider widget that allows users to interactively choose a range of values by dragging a slider handle:"
   ]
  },
  {
   "cell_type": "code",
   "execution_count": 31,
   "metadata": {},
   "outputs": [],
   "source": [
    "min_year, max_year = int(df['model_year'].min()), int(df['model_year'].max())\n",
    "year_range = st.slider('Choose year:', value=(min_year, max_year), min_value=min_year, max_value=max_year)\n",
    "actual_range = list(range(year_range[0], year_range[1]+1))"
   ]
  },
  {
   "cell_type": "markdown",
   "metadata": {},
   "source": [
    "What's happening here? Let's break down this code together:\n",
    "\n",
    "\n",
    "1. 'min_year, max_year = int(df['model_year'].min()), int(df['model_year'].max()): This line calculates the minimum and maximum values of the 'model_year' column in the DataFrame df. It converts these values to integers and assigns them to the variables min_year and max_year.\n",
    "\n",
    "2. 'year_range = st.slider('Choose year:', value=(min_year, max_year), min_value=min_year, max_value=max_year): This line creates a slider using Streamlit (st.slider). The slider allows users to choose a range of years. The label for the slider is 'Choose year:', and the initial range is set to the values of min_year and max_year. Users can select a range of years between min_year and max_year.\n",
    "\n",
    "3. 'actual_range = list(range(year_range[0], year_range[1]+1)): This line creates a list of integers representing the actual range of years selected by the user using the slider. It uses the range function to generate a sequence of numbers from the starting year (year_range[0]) to the ending year (year_range[1] + 1). The +1 is used to include the ending year in the range."
   ]
  },
  {
   "cell_type": "markdown",
   "metadata": {},
   "source": [
    "Now let's filter the data based on model and selected year range:"
   ]
  },
  {
   "cell_type": "code",
   "execution_count": 32,
   "metadata": {},
   "outputs": [
    {
     "data": {
      "text/plain": [
       "DeltaGenerator()"
      ]
     },
     "execution_count": 32,
     "metadata": {},
     "output_type": "execute_result"
    }
   ],
   "source": [
    "df_filtered = df[(df['model'] == make_choice_model) & (df.model_year.isin(list(actual_range)))]\n",
    "st.table(df_filtered)"
   ]
  },
  {
   "cell_type": "markdown",
   "metadata": {},
   "source": [
    "This code filters the original DataFrame based on the selected car model (make_choice_model) and a range of model years (actual_range). The resulting filtered DataFrame is then displayed in a table using Streamlit."
   ]
  },
  {
   "cell_type": "markdown",
   "metadata": {},
   "source": [
    "Now that we have created several ways for the user to filter the data, let's make some graphs that will display the price analysis and distribution of the car advertisement data. Begin by creating a header for Price Analysis:"
   ]
  },
  {
   "cell_type": "code",
   "execution_count": 34,
   "metadata": {},
   "outputs": [
    {
     "data": {
      "text/plain": [
       "DeltaGenerator()"
      ]
     },
     "execution_count": 34,
     "metadata": {},
     "output_type": "execute_result"
    }
   ],
   "source": [
    "st.header('Price Analysis:')"
   ]
  },
  {
   "cell_type": "markdown",
   "metadata": {},
   "source": [
    "Don't forget to continously refresh the website by either refreshing at the top or running 'streamlit run car_ad.py' in Terminal."
   ]
  },
  {
   "cell_type": "markdown",
   "metadata": {},
   "source": [
    "Now we will make another drop-down for selecting the variable in the price distribution for the histogram we will create:"
   ]
  },
  {
   "cell_type": "code",
   "execution_count": 35,
   "metadata": {},
   "outputs": [],
   "source": [
    "list_for_hist = ['transmission', 'type', 'fuel', 'condition']\n",
    "choice_for_hist = st.selectbox('Split for price distribution:', list_for_hist)"
   ]
  },
  {
   "cell_type": "markdown",
   "metadata": {},
   "source": [
    "\n",
    "list_for_hist = ['transmission', 'type', 'fuel', 'condition']: This line creates a list named list_for_hist that contains four strings - 'transmission', 'type', 'fuel', and 'condition'. These strings likely represent different categories or types of data in a DataFrame.\n",
    "\n",
    "choice_for_hist = st.selectbox('Split for price distribution:', list_for_hist): This line uses Streamlit's selectbox function. It creates a dropdown box (a box that you can click and choose from a list) with the label 'Split for price distribution:' and options taken from the list_for_hist. The user can choose one of the options from the dropdown.\n",
    "\n",
    "The code sets up a dropdown menu that asks the user to choose a category ('transmission', 'type', 'fuel', or 'condition') for splitting the data when analyzing the distribution of prices. This selected choice will be used later in the code for creating a histogram to visualize how prices are distributed within the chosen category."
   ]
  },
  {
   "cell_type": "markdown",
   "metadata": {},
   "source": [
    "Creating the histogram and displaying it:"
   ]
  },
  {
   "cell_type": "code",
   "execution_count": 36,
   "metadata": {},
   "outputs": [
    {
     "data": {
      "text/plain": [
       "DeltaGenerator()"
      ]
     },
     "execution_count": 36,
     "metadata": {},
     "output_type": "execute_result"
    }
   ],
   "source": [
    "fig1 = px.histogram(df, x='price', color=choice_for_hist)\n",
    "fig1.update_layout(title='<b> Split of price by {}</b>'.format(choice_for_hist))\n",
    "st.plotly_chart(fig1)"
   ]
  },
  {
   "cell_type": "markdown",
   "metadata": {},
   "source": [
    "Let's breakdown this code:\n",
    "\n",
    "fig1 = px.histogram(df, x='price', color=choice_for_hist): This line uses the plotly.express library to create a histogram (fig1). A histogram is a type of chart that shows the distribution of a dataset. Here, it's showing how prices (x='price') are distributed. The color parameter is set to choice_for_hist, which is the category the user selected earlier (like 'transmission', 'type', 'fuel', or 'condition'). This means the histogram will have different colors for each category, helping you see how prices vary within each category.\n",
    "\n",
    "fig1.update_layout(title='<b> Split of price by {}</b>'.format(choice_for_hist)): This line updates the layout of the figure (fig1). It adds a title to the histogram, and the title is dynamic – it includes the chosen category for splitting the data (like 'transmission', 'type', 'fuel', or 'condition').\n",
    "\n",
    "st.plotly_chart(fig1): Finally, this line uses Streamlit's plotly_chart function to display the created histogram (fig1) in the Streamlit app."
   ]
  },
  {
   "cell_type": "markdown",
   "metadata": {},
   "source": [
    "Our final chart for theis data set will be a scatterplot. We will define a function 'age category' for the price distribution of this plot. Let us define x = age of the car:"
   ]
  },
  {
   "cell_type": "code",
   "execution_count": 37,
   "metadata": {},
   "outputs": [],
   "source": [
    "df['age'] = 2023 - df['model_year']\n",
    "\n",
    "def age_category(x):\n",
    "    if x < 5:\n",
    "        return '<5'\n",
    "    elif 5 <= x < 10:\n",
    "        return '5-10'\n",
    "    elif 10 <= x < 20:\n",
    "        return '10-20'\n",
    "    else:\n",
    "        return '>20'\n",
    "\n",
    "df['age_category'] = df['age'].apply(age_category)"
   ]
  },
  {
   "cell_type": "markdown",
   "metadata": {},
   "source": [
    "The function categorizes the age into different groups:\n",
    "\n",
    "1. If the age is less than 5 years, it returns '<5'.\n",
    "2. If the age is between 5 (inclusive) and less than 10, it returns '5-10'.\n",
    "3. If the age is between 10 (inclusive) and less than 20, it returns '10-20'.\n",
    "Otherwise, for ages 20 years and above, it returns '>20'."
   ]
  },
  {
   "cell_type": "markdown",
   "metadata": {},
   "source": [
    "Now let's make our drop down..."
   ]
  },
  {
   "cell_type": "code",
   "execution_count": 38,
   "metadata": {},
   "outputs": [],
   "source": [
    "list_for_scatter = ['odometer', 'fuel', 'cylinders']\n",
    "choice_for_scatter = st.selectbox('Price dependency on:', list_for_scatter)"
   ]
  },
  {
   "cell_type": "markdown",
   "metadata": {},
   "source": [
    "... And create our scatterplot!"
   ]
  },
  {
   "cell_type": "code",
   "execution_count": 39,
   "metadata": {},
   "outputs": [
    {
     "data": {
      "text/plain": [
       "DeltaGenerator()"
      ]
     },
     "execution_count": 39,
     "metadata": {},
     "output_type": "execute_result"
    }
   ],
   "source": [
    "fig2 = px.scatter(df, x='price', y=choice_for_scatter, color='age_category', hover_data=['model_year'])\n",
    "fig2.update_layout(title='<b>Price vs {}</b>'.format(choice_for_scatter))\n",
    "st.plotly_chart(fig2)"
   ]
  },
  {
   "cell_type": "markdown",
   "metadata": {},
   "source": [
    "Conclusion"
   ]
  },
  {
   "cell_type": "markdown",
   "metadata": {},
   "source": [
    "In this project, we were able to create a website that allowed the user to filter car advertisements based on the model of the car as well as the model year. We also create a histogram that showed the price distribution by transmission, type, fuel and condition of the car. We then created a scatterplot that analyzed price by odmeter mileage, fuel and number of cylinders. We were also able to show the age range on the scatterplot. \n",
    "\n",
    "A use can come to many conclusions from this site. Some of those include disel cars being the most expensive and the more cylinders a car has the older it was, and the more expensive it was. Hopefully, this site will be able to help anyone trying to buy a car in the near future."
   ]
  }
 ],
 "metadata": {
  "kernelspec": {
   "display_name": "Python 3 (ipykernel)",
   "language": "python",
   "name": "python3"
  },
  "language_info": {
   "codemirror_mode": {
    "name": "ipython",
    "version": 3
   },
   "file_extension": ".py",
   "mimetype": "text/x-python",
   "name": "python",
   "nbconvert_exporter": "python",
   "pygments_lexer": "ipython3",
   "version": "3.11.4"
  }
 },
 "nbformat": 4,
 "nbformat_minor": 4
}
