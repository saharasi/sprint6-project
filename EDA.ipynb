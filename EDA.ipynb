{
 "cells": [
  {
   "cell_type": "code",
   "execution_count": 1,
   "metadata": {},
   "outputs": [
    {
     "name": "stderr",
     "output_type": "stream",
     "text": [
      "2023-11-09 12:49:44.335 \n",
      "  \u001b[33m\u001b[1mWarning:\u001b[0m to view this Streamlit app on a browser, run it with the following\n",
      "  command:\n",
      "\n",
      "    streamlit run /Users/saharasi/Desktop/Sprint 6 Software Development Project/myenv/lib/python3.11/site-packages/ipykernel_launcher.py [ARGUMENTS]\n"
     ]
    },
    {
     "data": {
      "text/plain": [
       "DeltaGenerator()"
      ]
     },
     "execution_count": 1,
     "metadata": {},
     "output_type": "execute_result"
    }
   ],
   "source": [
    "import pandas as pd\n",
    "import streamlit as st\n",
    "import plotly.express as px\n",
    "\n",
    "st.header('Car Advertisement Data')\n",
    "st.write(''' #### Filter the data below to see the ads by manufacturer''')\n",
    "\n",
    "df=pd.read_csv('vehicles_us.csv')\n",
    "df.head()\n",
    "\n",
    "models_choice=df['model'].unique()\n",
    "make_choice_model = st.selectbox('Select Model:', models_choice)\n",
    "\n",
    "\n",
    "min_year=df['model_year'].min()\n",
    "max_year=df['model_year'].max()\n",
    "\n",
    "min_year, max_year = int(df['model_year'].min()), int(df['model_year'].max())\n",
    "\n",
    "year_range = st.slider('Choose year:', value=(\n",
    "    min_year, max_year), min_value=min_year, max_value=max_year)\n",
    "\n",
    "actual_range = list(range(year_range[0], year_range[1]+1))\n",
    "\n",
    "\n",
    "df_filtered = df[(df['model'] == make_choice_model) &\n",
    "                 (df.model_year.isin(list(actual_range)))]\n",
    "st.table(df_filtered)\n",
    "\n",
    "st.header('Price Analysis:')\n",
    "\n",
    "list_for_hist = ['transmission', 'type', 'fuel', 'condition']\n",
    "choice_for_hist = st.selectbox('Split for price distribution:', list_for_hist)\n",
    "fig1 = px.histogram(df, x='price', color=choice_for_hist)\n",
    "fig1.update_layout(\n",
    "    title='<b> Split of price by {}</b>'.format(choice_for_hist))\n",
    "st.plotly_chart(fig1)\n",
    "\n",
    "\n",
    "\n",
    "\n",
    "# defining the age category of car\n",
    "\n",
    "df['age'] = 2023-df['model_year']\n",
    "\n",
    "\n",
    "def age_category(x):\n",
    "    if x < 5:\n",
    "        return '<5'\n",
    "    elif x >= 5 and x < 10:\n",
    "        return '5-10'\n",
    "    elif x >= 10 and x < 20:\n",
    "        return '10-20'\n",
    "    else:\n",
    "        return '>20'\n",
    "\n",
    "\n",
    "df['age_category'] = df['age'].apply(age_category)\n",
    "\n",
    "list_for_scatter = ['odometer', 'fuel', 'cylinders']\n",
    "choice_for_scatter = st.selectbox('Price dependency on:', list_for_scatter)\n",
    "\n",
    "fig2 = px.scatter(df, x='price', y=choice_for_scatter,\n",
    "                  color='age_category', hover_data=['model_year'])\n",
    "\n",
    "fig2.update_layout(title='<b>Price vs {}</b>'.format(choice_for_scatter))\n",
    "st.plotly_chart(fig2)\n",
    "\n",
    "\n"
   ]
  }
 ],
 "metadata": {
  "kernelspec": {
   "display_name": "Python 3 (ipykernel)",
   "language": "python",
   "name": "python3"
  },
  "language_info": {
   "codemirror_mode": {
    "name": "ipython",
    "version": 3
   },
   "file_extension": ".py",
   "mimetype": "text/x-python",
   "name": "python",
   "nbconvert_exporter": "python",
   "pygments_lexer": "ipython3",
   "version": "3.11.4"
  }
 },
 "nbformat": 4,
 "nbformat_minor": 4
}
